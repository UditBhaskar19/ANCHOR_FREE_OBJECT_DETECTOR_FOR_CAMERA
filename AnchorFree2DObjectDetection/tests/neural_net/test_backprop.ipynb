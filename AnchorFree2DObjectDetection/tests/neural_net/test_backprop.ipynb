{
 "cells": [
  {
   "cell_type": "code",
   "execution_count": 1,
   "metadata": {},
   "outputs": [],
   "source": [
    "import sys, torch\n",
    "rootdir = '../..'\n",
    "sys.path.append(rootdir)\n",
    "from config import OUT_FEAT_SIZE_H, OUT_FEAT_SIZE_W\n",
    "from modules.pretrained.utils_backbone_cfg import get_feat_shapes\n",
    "from modules.neural_net.backbone.backbone_v2 import net_backbone\n",
    "from modules.neural_net.bifpn.bifpn_nblks_v2 import BiFPN\n",
    "from modules.neural_net.head.shared_head_v5 import SharedNet\n",
    "from modules.neural_net.detector.detector_v1 import FCOS"
   ]
  },
  {
   "cell_type": "code",
   "execution_count": 2,
   "metadata": {},
   "outputs": [],
   "source": [
    "basenet = 'efficientnet_b4'\n",
    "num_backbone_nodes = 4\n",
    "num_extra_blocks = 3\n",
    "extra_blocks_feat_dim = 512\n",
    "fpn_feat_dim = 256\n",
    "num_fpn_blocks = 2\n",
    "stem_channels = [256, 256, 256, 256]\n",
    "num_classes = 4\n",
    "activation = 'swish'\n",
    "img_h = 360\n",
    "img_w = 640\n",
    "img_d = 3\n",
    "\n",
    "DEVICE = 'cuda'"
   ]
  },
  {
   "cell_type": "code",
   "execution_count": 3,
   "metadata": {},
   "outputs": [],
   "source": [
    "dummy_out_shapes = get_feat_shapes(\n",
    "    basenet, \n",
    "    img_h, img_w, img_d, \n",
    "    num_backbone_nodes, \n",
    "    num_extra_blocks, \n",
    "    extra_blocks_feat_dim)\n",
    "    \n",
    "backbone = net_backbone(\n",
    "    basenet = basenet, \n",
    "    num_extra_blocks = num_extra_blocks,\n",
    "    num_backbone_nodes = num_backbone_nodes,\n",
    "    in_channels_extra_blks = dummy_out_shapes[f'c{num_backbone_nodes - 1}'][0], \n",
    "    out_channels_extra_blks = extra_blocks_feat_dim,\n",
    "    freeze_backbone_layers = True,\n",
    "    activation = activation)\n",
    "\n",
    "bifpn = BiFPN(\n",
    "    num_blks = num_fpn_blocks, \n",
    "    feat_pyr_shapes = dummy_out_shapes, \n",
    "    num_channels = fpn_feat_dim,\n",
    "    activation = activation)\n",
    "\n",
    "shared_head = SharedNet(\n",
    "    num_levels = num_backbone_nodes + num_extra_blocks,\n",
    "    in_channels = fpn_feat_dim, \n",
    "    stem_channels_cls = stem_channels,\n",
    "    stem_channels_reg = stem_channels,\n",
    "    num_classes = num_classes,\n",
    "    activation = activation,\n",
    "    out_feat_shape = (OUT_FEAT_SIZE_H, OUT_FEAT_SIZE_W))\n",
    "\n",
    "# detector = FCOS(backbone, bifpn, shared_head)\n",
    "# detector = detector.to(DEVICE)\n",
    "\n",
    "backbone = backbone.to(DEVICE)\n",
    "bifpn = bifpn.to(DEVICE)\n",
    "shared_head = shared_head.to(DEVICE)"
   ]
  },
  {
   "cell_type": "code",
   "execution_count": 4,
   "metadata": {},
   "outputs": [],
   "source": [
    "# input_data_shape = (1, img_d, img_h, img_w)   # (num batches, num_channels, height, width)\n",
    "# dummy_in = torch.randn(input_data_shape)\n",
    "# preditions = detector(dummy_in)\n",
    "\n",
    "# class_logits = preditions.class_logits\n",
    "# boxreg_deltas = preditions.boxreg_deltas \n",
    "# centerness_logits = preditions.centerness_logits"
   ]
  },
  {
   "cell_type": "code",
   "execution_count": 5,
   "metadata": {},
   "outputs": [],
   "source": [
    "# y = torch.sum(class_logits) + torch.sum(boxreg_deltas) + torch.sum(centerness_logits)\n",
    "# y.backward()\n",
    "\n",
    "# print(y.grad_fn)\n",
    "# print(class_logits.grad_fn)\n",
    "# print(boxreg_deltas.grad_fn)\n",
    "# print(centerness_logits.grad_fn)\n",
    "# print('-' * 100)"
   ]
  },
  {
   "cell_type": "code",
   "execution_count": 6,
   "metadata": {},
   "outputs": [
    {
     "name": "stdout",
     "output_type": "stream",
     "text": [
      "<AddBackward0 object at 0x0000018A98E446D0>\n",
      "<CloneBackward0 object at 0x0000018A98E444F0>\n",
      "<CloneBackward0 object at 0x0000018A98E446D0>\n",
      "<PermuteBackward0 object at 0x0000018A98E444F0>\n",
      "----------------------------------------------------------------------------------------------------\n",
      "<CloneBackward0 object at 0x0000018A98E444F0>\n",
      "<CloneBackward0 object at 0x0000018A98E446D0>\n",
      "<PermuteBackward0 object at 0x0000018A98E444F0>\n",
      "----------------------------------------------------------------------------------------------------\n",
      "<SiluBackward0 object at 0x0000018A98E444F0>\n",
      "<SiluBackward0 object at 0x0000018A98E446D0>\n",
      "<SiluBackward0 object at 0x0000018A98E444F0>\n",
      "<SiluBackward0 object at 0x0000018A98E446D0>\n",
      "<SiluBackward0 object at 0x0000018A98E444F0>\n",
      "<SiluBackward0 object at 0x0000018A98E446D0>\n",
      "<SiluBackward0 object at 0x0000018A98E444F0>\n",
      "----------------------------------------------------------------------------------------------------\n",
      "None\n",
      "None\n",
      "None\n",
      "None\n",
      "<SiluBackward0 object at 0x0000018A98E444F0>\n",
      "<SiluBackward0 object at 0x0000018A98E446D0>\n",
      "<SiluBackward0 object at 0x0000018A98E444F0>\n"
     ]
    }
   ],
   "source": [
    "input_data_shape = (1, img_d, img_h, img_w)   # (num batches, num_channels, height, width)\n",
    "dummy_in = torch.randn(input_data_shape).to(DEVICE)\n",
    "x1 = backbone(dummy_in)\n",
    "x2 = bifpn(x1)\n",
    "x3 = shared_head(x2)\n",
    "\n",
    "y1 = x3.class_logits\n",
    "y2 = x3.boxreg_deltas\n",
    "y3 = x3.centerness_logits\n",
    "y = y1.sum() + y2.sum() + y3.sum()\n",
    "y.backward()\n",
    "\n",
    "\n",
    "print(y.grad_fn)\n",
    "print(y1.grad_fn)\n",
    "print(y2.grad_fn)\n",
    "print(y3.grad_fn)\n",
    "print('-' * 100)\n",
    "print(x3.class_logits.grad_fn)\n",
    "print(x3.boxreg_deltas.grad_fn)\n",
    "print(x3.centerness_logits.grad_fn)\n",
    "print('-' * 100)\n",
    "print(x2['c0'].grad_fn)\n",
    "print(x2['c1'].grad_fn)\n",
    "print(x2['c2'].grad_fn)\n",
    "print(x2['c3'].grad_fn)\n",
    "print(x2['c4'].grad_fn)\n",
    "print(x2['c5'].grad_fn)\n",
    "print(x2['c6'].grad_fn)\n",
    "print('-' * 100)\n",
    "print(x1['c0'].grad_fn)\n",
    "print(x1['c1'].grad_fn)\n",
    "print(x1['c2'].grad_fn)\n",
    "print(x1['c3'].grad_fn)\n",
    "print(x1['c4'].grad_fn)\n",
    "print(x1['c5'].grad_fn)\n",
    "print(x1['c6'].grad_fn)"
   ]
  },
  {
   "cell_type": "code",
   "execution_count": null,
   "metadata": {},
   "outputs": [],
   "source": []
  },
  {
   "cell_type": "code",
   "execution_count": null,
   "metadata": {},
   "outputs": [],
   "source": []
  },
  {
   "cell_type": "code",
   "execution_count": null,
   "metadata": {},
   "outputs": [],
   "source": []
  }
 ],
 "metadata": {
  "kernelspec": {
   "display_name": "torch2",
   "language": "python",
   "name": "python3"
  },
  "language_info": {
   "codemirror_mode": {
    "name": "ipython",
    "version": 3
   },
   "file_extension": ".py",
   "mimetype": "text/x-python",
   "name": "python",
   "nbconvert_exporter": "python",
   "pygments_lexer": "ipython3",
   "version": "3.11.4"
  },
  "orig_nbformat": 4
 },
 "nbformat": 4,
 "nbformat_minor": 2
}
