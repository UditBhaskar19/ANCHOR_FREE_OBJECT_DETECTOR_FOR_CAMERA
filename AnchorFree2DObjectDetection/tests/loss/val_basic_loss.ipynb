{
 "cells": [
  {
   "cell_type": "code",
   "execution_count": 1,
   "metadata": {},
   "outputs": [],
   "source": [
    "import sys, torch\n",
    "rootdir = '../..'\n",
    "sys.path.append(rootdir)\n",
    "from modules.loss.basic_loss import *\n",
    "import config_neuralnet\n",
    "device = 'cpu'"
   ]
  },
  {
   "cell_type": "markdown",
   "metadata": {},
   "source": [
    "## Cross Entrophy Loss"
   ]
  },
  {
   "cell_type": "code",
   "execution_count": 2,
   "metadata": {},
   "outputs": [
    {
     "name": "stdout",
     "output_type": "stream",
     "text": [
      "tensor([0.3960, 1.0773, 0.8081, 1.6071, 0.5317, 2.5423, 0.5690, 0.4236, 0.0587,\n",
      "        0.3462])\n",
      "tensor([0.2477, 1.0773, 0.8081, 1.6071, 0.5317, 1.5901, 0.5690, 0.2649, 0.0587,\n",
      "        0.3462])\n"
     ]
    }
   ],
   "source": [
    "num_sample = 10\n",
    "num_class = 2\n",
    "\n",
    "# generate prediction\n",
    "y_pred = torch.randn(size=(num_sample, num_class), dtype=torch.float32, device=device)\n",
    "\n",
    "# generate gt\n",
    "y_true = torch.zeros((num_sample, num_class), dtype=torch.float32, device=device)\n",
    "col_index = torch.randint(low=0, high=num_class, size=(num_sample,), dtype=torch.int32, device=device)\n",
    "row_idx = torch.arange(num_sample)\n",
    "y_true[row_idx,col_index] = 1.0\n",
    "\n",
    "# class weights\n",
    "class_weights = torch.tensor(config_neuralnet.CLASS_WEIGHTS, dtype=torch.float32, device=device)\n",
    "cls_loss = CE_loss()\n",
    "loss1 = cls_loss(y_pred, y_true)\n",
    "loss2 = cls_loss(y_pred, y_true, class_weights)\n",
    "print(loss1)\n",
    "print(loss2)"
   ]
  },
  {
   "cell_type": "markdown",
   "metadata": {},
   "source": [
    "## Focal Loss Multi-Class"
   ]
  },
  {
   "cell_type": "code",
   "execution_count": 3,
   "metadata": {},
   "outputs": [
    {
     "name": "stdout",
     "output_type": "stream",
     "text": [
      "tensor([[0.2709, 0.1050, 0.1624, 0.0033],\n",
      "        [0.5688, 0.1363, 0.0159, 0.7777],\n",
      "        [0.2392, 0.1281, 0.0491, 0.7729],\n",
      "        [0.3052, 0.0805, 0.0966, 0.1473],\n",
      "        [0.6696, 0.1587, 0.0365, 0.0131],\n",
      "        [0.5520, 0.2217, 0.0618, 0.7122],\n",
      "        [0.0260, 0.4119, 0.0136, 0.0844],\n",
      "        [0.0138, 0.7863, 0.0147, 0.0093],\n",
      "        [0.5454, 0.2875, 0.0646, 0.6829],\n",
      "        [0.4227, 0.0032, 0.1118, 0.0143]])\n"
     ]
    }
   ],
   "source": [
    "num_sample = 10\n",
    "num_class = 4\n",
    "\n",
    "# generate prediction\n",
    "y_pred = torch.randn(size=(num_sample, num_class), dtype=torch.float32, device=device)\n",
    "\n",
    "# generate gt\n",
    "y_true = torch.zeros((num_sample, num_class), dtype=torch.float32, device=device)\n",
    "col_index = torch.randint(low=0, high=num_class, size=(num_sample,), dtype=torch.int32, device=device)\n",
    "row_idx = torch.arange(num_sample)\n",
    "y_true[row_idx,col_index] = 1.0\n",
    "\n",
    "cls_loss = Focal_Loss()\n",
    "loss = cls_loss(y_pred, y_true)\n",
    "print(loss)"
   ]
  },
  {
   "cell_type": "markdown",
   "metadata": {},
   "source": [
    "## Focal Loss Single-Class"
   ]
  },
  {
   "cell_type": "code",
   "execution_count": 4,
   "metadata": {},
   "outputs": [
    {
     "name": "stdout",
     "output_type": "stream",
     "text": [
      "tensor([0.0154, 0.0036, 0.0225, 0.2769, 0.0227, 0.1409, 0.0113, 0.2606, 0.1367,\n",
      "        0.6785])\n"
     ]
    }
   ],
   "source": [
    "num_sample = 10\n",
    "\n",
    "# generate prediction\n",
    "y_pred = torch.randn(size=(num_sample, ), dtype=torch.float32, device=device)\n",
    "\n",
    "# generate gt\n",
    "y_true = torch.zeros((num_sample, ), dtype=torch.float32, device=device)\n",
    "index = torch.randint(low=0, high=num_sample, size=(num_sample,), dtype=torch.int32, device=device)\n",
    "y_true[index] = 1.0\n",
    "\n",
    "cls_loss = Focal_Loss()\n",
    "loss = cls_loss(y_pred, y_true)\n",
    "print(loss)"
   ]
  },
  {
   "cell_type": "markdown",
   "metadata": {},
   "source": [
    "## Smooth L1 Loss"
   ]
  },
  {
   "cell_type": "code",
   "execution_count": 5,
   "metadata": {},
   "outputs": [
    {
     "name": "stdout",
     "output_type": "stream",
     "text": [
      "tensor([[6.6101e-01, 3.8244e-01, 5.4677e-02, 1.9701e+00],\n",
      "        [8.4068e-05, 2.8540e-01, 8.8048e-01, 2.1673e-01],\n",
      "        [2.7078e-01, 2.9968e+00, 1.1292e+00, 2.0439e+00],\n",
      "        [4.5142e-01, 1.0155e-01, 1.1147e+00, 1.6681e+00],\n",
      "        [3.2013e+00, 3.7635e-01, 2.9311e-02, 5.6956e-01],\n",
      "        [2.2797e-01, 5.3743e-01, 1.6302e-03, 1.3667e+00],\n",
      "        [2.6350e-02, 9.0228e-02, 2.8241e+00, 1.2252e-01],\n",
      "        [3.7605e-03, 8.3939e-01, 5.7034e-03, 1.1385e-01],\n",
      "        [8.7310e-01, 3.3101e-01, 5.4782e-02, 8.8593e-01],\n",
      "        [5.7961e-01, 1.9579e+00, 3.4545e-02, 1.0338e+00]])\n"
     ]
    }
   ],
   "source": [
    "num_sample = 10\n",
    "dimension = 4\n",
    "\n",
    "# generate prediction\n",
    "y_pred = torch.randn(size=(num_sample, dimension), dtype=torch.float32, device=device)\n",
    "\n",
    "# generate gt\n",
    "y_true = torch.randn(size=(num_sample, dimension), dtype=torch.float32, device=device)\n",
    "\n",
    "reg_loss = Smooth_L1_Loss()\n",
    "loss = reg_loss(y_pred, y_true)\n",
    "print(loss)"
   ]
  },
  {
   "cell_type": "markdown",
   "metadata": {},
   "source": [
    "## Complete Box IOU Loss"
   ]
  },
  {
   "cell_type": "code",
   "execution_count": 6,
   "metadata": {},
   "outputs": [
    {
     "name": "stdout",
     "output_type": "stream",
     "text": [
      "tensor([1.3588, 2.6050, 2.2218, 3.5045, 1.1223, 1.0292, 2.6013, 1.3519, 1.4596,\n",
      "        1.4628])\n"
     ]
    }
   ],
   "source": [
    "num_sample = 10\n",
    "dimension = 4\n",
    "\n",
    "# generate prediction\n",
    "y_pred = torch.randn(size=(num_sample, dimension), dtype=torch.float32, device=device)\n",
    "\n",
    "# generate gt\n",
    "y_true = torch.randn(size=(num_sample, dimension), dtype=torch.float32, device=device)\n",
    "\n",
    "reg_loss = Complete_Box_IOU_Loss()\n",
    "loss = reg_loss(y_pred, y_true)\n",
    "print(loss)"
   ]
  },
  {
   "cell_type": "markdown",
   "metadata": {},
   "source": [
    "## Distance Box IOU Loss"
   ]
  },
  {
   "cell_type": "code",
   "execution_count": 7,
   "metadata": {},
   "outputs": [
    {
     "name": "stdout",
     "output_type": "stream",
     "text": [
      "tensor([1.6658, 1.7688, 1.1348, 1.1459, 1.0782, 2.3607, 1.6315, 2.1312, 3.2713,\n",
      "        1.0263])\n"
     ]
    }
   ],
   "source": [
    "num_sample = 10\n",
    "dimension = 4\n",
    "\n",
    "# generate prediction\n",
    "y_pred = torch.randn(size=(num_sample, dimension), dtype=torch.float32, device=device)\n",
    "\n",
    "# generate gt\n",
    "y_true = torch.randn(size=(num_sample, dimension), dtype=torch.float32, device=device)\n",
    "\n",
    "reg_loss = Distance_Box_IOU_Loss()\n",
    "loss = reg_loss(y_pred, y_true)\n",
    "print(loss)"
   ]
  },
  {
   "cell_type": "markdown",
   "metadata": {},
   "source": [
    "## Generalized Box IOU Loss"
   ]
  },
  {
   "cell_type": "code",
   "execution_count": 8,
   "metadata": {},
   "outputs": [
    {
     "name": "stdout",
     "output_type": "stream",
     "text": [
      "tensor([ 1.2693,  0.4317,  0.6423, 35.3473,  1.7353,  4.4510,  2.3607,  1.9742,\n",
      "        -2.5692,  1.5993])\n"
     ]
    }
   ],
   "source": [
    "num_sample = 10\n",
    "dimension = 4\n",
    "\n",
    "# generate prediction\n",
    "y_pred = torch.randn(size=(num_sample, dimension), dtype=torch.float32, device=device)\n",
    "\n",
    "# generate gt\n",
    "y_true = torch.randn(size=(num_sample, dimension), dtype=torch.float32, device=device)\n",
    "\n",
    "reg_loss = Generalized_Box_IOU_Loss()\n",
    "loss = reg_loss(y_pred, y_true)\n",
    "print(loss)"
   ]
  },
  {
   "cell_type": "code",
   "execution_count": 9,
   "metadata": {},
   "outputs": [],
   "source": [
    "# y_true = torch.Tensor([[346.2602, 105.3670, 387.6278, 219.7225],\n",
    "#                        [346.6530, 110.2781, 389.6848, 212.0684],\n",
    "#                        [388.2463, 112.4536, 472.5181, 193.1237]])\n",
    "\n",
    "# y_pred = torch.Tensor([[386.4427, 107.2231, 386.4427, 107.2231],\n",
    "#                        [382.4381, 119.3615, 382.4381, 119.3615],\n",
    "#                        [418.4794, 119.3615, 418.4794, 119.3615]])\n",
    "\n",
    "# y_pred_deltas = torch.Tensor([[-6.1779e-06, -1.5735e-05, -8.6601e-06, -2.2519e-06],\n",
    "#                               [-4.1997e-06, -2.6104e-05, -6.3580e-06, -1.4458e-05],\n",
    "#                               [-3.5190e-05, -2.9658e-05, -3.5853e-05, -1.8607e-06]])\n",
    "\n",
    "# grid_coord = torch.Tensor([[386.4427, 107.2231],\n",
    "#                            [382.4381, 119.3615],\n",
    "#                            [418.4794, 119.3615]])\n",
    "\n",
    "\n",
    "# reg_loss = Complete_Box_IOU_Loss()\n",
    "# loss = reg_loss(y_pred, y_true)\n",
    "# print(loss)"
   ]
  },
  {
   "cell_type": "code",
   "execution_count": null,
   "metadata": {},
   "outputs": [],
   "source": []
  },
  {
   "cell_type": "code",
   "execution_count": null,
   "metadata": {},
   "outputs": [],
   "source": []
  },
  {
   "cell_type": "code",
   "execution_count": null,
   "metadata": {},
   "outputs": [],
   "source": []
  },
  {
   "cell_type": "code",
   "execution_count": null,
   "metadata": {},
   "outputs": [],
   "source": []
  },
  {
   "cell_type": "code",
   "execution_count": null,
   "metadata": {},
   "outputs": [],
   "source": []
  }
 ],
 "metadata": {
  "kernelspec": {
   "display_name": "torch2",
   "language": "python",
   "name": "python3"
  },
  "language_info": {
   "codemirror_mode": {
    "name": "ipython",
    "version": 3
   },
   "file_extension": ".py",
   "mimetype": "text/x-python",
   "name": "python",
   "nbconvert_exporter": "python",
   "pygments_lexer": "ipython3",
   "version": "3.11.4"
  }
 },
 "nbformat": 4,
 "nbformat_minor": 2
}
