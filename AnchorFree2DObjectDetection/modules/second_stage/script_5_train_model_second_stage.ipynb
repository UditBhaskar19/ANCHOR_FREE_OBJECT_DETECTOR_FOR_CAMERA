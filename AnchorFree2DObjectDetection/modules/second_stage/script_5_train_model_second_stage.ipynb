{
 "cells": [
  {
   "cell_type": "code",
   "execution_count": null,
   "metadata": {},
   "outputs": [],
   "source": [
    "from modules.second_stage.model_train import train_model\n",
    "from set_parameters_for_training_second_stage import (\n",
    "    detector_second_stage_train, prop_extractor, \n",
    "    optimizer, lr_scheduler, dataloader_selector,\n",
    "    max_iters, init_start )\n",
    "\n",
    "from torch.utils.tensorboard import SummaryWriter\n",
    "tb_writer = SummaryWriter('tensorboard/detector_second_stage_v1')\n",
    "\n",
    "# type < tensorboard --logdir=tensorboard/detector_second_stage_v1 > in the cmd"
   ]
  },
  {
   "cell_type": "code",
   "execution_count": null,
   "metadata": {},
   "outputs": [],
   "source": [
    "train_model(   \n",
    "    prop_extractor,\n",
    "    detector_second_stage_train,\n",
    "    optimizer,\n",
    "    lr_scheduler,\n",
    "    dataloader_selector,\n",
    "    tb_writer,\n",
    "    max_iters,\n",
    "    log_period=20,\n",
    "    val_period=1000,\n",
    "    iter_start_offset=init_start)"
   ]
  }
 ],
 "metadata": {
  "kernelspec": {
   "display_name": "torch2",
   "language": "python",
   "name": "python3"
  },
  "language_info": {
   "codemirror_mode": {
    "name": "ipython",
    "version": 3
   },
   "file_extension": ".py",
   "mimetype": "text/x-python",
   "name": "python",
   "nbconvert_exporter": "python",
   "pygments_lexer": "ipython3",
   "version": "3.11.4"
  }
 },
 "nbformat": 4,
 "nbformat_minor": 2
}
