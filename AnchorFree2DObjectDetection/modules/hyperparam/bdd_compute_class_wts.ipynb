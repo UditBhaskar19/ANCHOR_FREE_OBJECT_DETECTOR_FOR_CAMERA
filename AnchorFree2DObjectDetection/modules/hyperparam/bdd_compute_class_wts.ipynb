{
 "cells": [
  {
   "cell_type": "code",
   "execution_count": 1,
   "metadata": {},
   "outputs": [],
   "source": [
    "import sys, os\n",
    "import numpy as np\n",
    "rootdir = '../..'\n",
    "sys.path.append(rootdir)\n",
    "from modules.hyperparam.bdd_aggregate_gt_transforms import hyperparam_out_dir, filename_class_instance_count, load_data_json\n",
    "from modules.dataset_utils.bdd_dataset_utils.constants import _IDX_TO_OBJ_CLASS_"
   ]
  },
  {
   "cell_type": "code",
   "execution_count": 2,
   "metadata": {},
   "outputs": [
    {
     "data": {
      "text/plain": [
       "array([0.62545866, 1.        ], dtype=float32)"
      ]
     },
     "execution_count": 2,
     "metadata": {},
     "output_type": "execute_result"
    }
   ],
   "source": [
    "class_instance_count_filepath = os.path.join(rootdir, hyperparam_out_dir, filename_class_instance_count)\n",
    "class_instance_count = load_data_json(class_instance_count_filepath)\n",
    "class_ids = list(class_instance_count.keys())\n",
    "class_counts = list(class_instance_count.values())\n",
    "\n",
    "class_count_np =  np.array(class_counts, dtype=np.float32)\n",
    "# class_weights = 1 - class_count_np / np.sum(class_count_np) \n",
    "class_weights = 1 / class_count_np\n",
    "class_weights = class_weights / np.max(class_weights)\n",
    "\n",
    "factor = 0.14\n",
    "class_weights = class_weights ** factor\n",
    "class_weights"
   ]
  },
  {
   "cell_type": "code",
   "execution_count": 3,
   "metadata": {},
   "outputs": [
    {
     "data": {
      "text/plain": [
       "array([10837814.,   379505.], dtype=float32)"
      ]
     },
     "execution_count": 3,
     "metadata": {},
     "output_type": "execute_result"
    }
   ],
   "source": [
    "class_count_np"
   ]
  },
  {
   "cell_type": "code",
   "execution_count": null,
   "metadata": {},
   "outputs": [],
   "source": []
  },
  {
   "cell_type": "code",
   "execution_count": null,
   "metadata": {},
   "outputs": [],
   "source": []
  }
 ],
 "metadata": {
  "kernelspec": {
   "display_name": "torch2",
   "language": "python",
   "name": "python3"
  },
  "language_info": {
   "codemirror_mode": {
    "name": "ipython",
    "version": 3
   },
   "file_extension": ".py",
   "mimetype": "text/x-python",
   "name": "python",
   "nbconvert_exporter": "python",
   "pygments_lexer": "ipython3",
   "version": "3.11.4"
  }
 },
 "nbformat": 4,
 "nbformat_minor": 2
}
